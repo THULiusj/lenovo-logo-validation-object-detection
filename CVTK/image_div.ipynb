{
 "cells": [
  {
   "cell_type": "code",
   "execution_count": 1,
   "metadata": {},
   "outputs": [],
   "source": [
    "# Use the Azure Machine Learning data collector to log various metrics\n",
    "from azureml.logging import get_azureml_logger\n",
    "logger = get_azureml_logger()"
   ]
  },
  {
   "cell_type": "code",
   "execution_count": 2,
   "metadata": {},
   "outputs": [],
   "source": [
    "import os"
   ]
  },
  {
   "cell_type": "code",
   "execution_count": null,
   "metadata": {
    "collapsed": true
   },
   "outputs": [],
   "source": [
    "# Use Azure Machine Learning history magic to control history collection\n",
    "# History is off by default, options are \"on\", \"off\", or \"show\"\n",
    "# %azureml history on"
   ]
  },
  {
   "cell_type": "code",
   "execution_count": 12,
   "metadata": {},
   "outputs": [],
   "source": [
    "set_div_path = \"C:/Users/jxm/Downloads/cvp-1.0.0b3/cvp_project/detection/sample_data/labelling_output3/ImageSets/Main\"\n",
    "set_jpeg_path = \"C:/Users/jxm/Downloads/cvp-1.0.0b3/cvp_project/detection/sample_data/labelling_output3/JPEGImages\"\n",
    "set_annot_path = \"C:/Users/jxm/Downloads/cvp-1.0.0b3/cvp_project/detection/sample_data/labelling_output3/Annotations\"\n",
    "image_path = \"C:/Users/jxm/Downloads/cvp-1.0.0b3/cvp_project/detection/sample_data/labelling_output3\""
   ]
  },
  {
   "cell_type": "code",
   "execution_count": 18,
   "metadata": {},
   "outputs": [],
   "source": [
    "train_path = image_path + \"/train\"\n",
    "val_path = image_path + \"/val\"\n",
    "if not os.path.exists(train_path):\n",
    "    os.makedirs(train_path) \n",
    "if not os.path.exists(val_path):\n",
    "    os.makedirs(val_path)\n",
    "\n",
    "if not os.path.exists(train_path + \"/JPEGImages\"):\n",
    "    os.makedirs(train_path + \"/JPEGImages\")\n",
    "if not os.path.exists(val_path + \"/JPEGImages\"):\n",
    "    os.makedirs(val_path + \"/JPEGImages\") \n",
    "if not os.path.exists(val_path + \"/Annotations\"):\n",
    "    os.makedirs(val_path + \"/Annotations\")\n",
    "if not os.path.exists(train_path + \"/Annotations\"):\n",
    "    os.makedirs(train_path + \"/Annotations\")"
   ]
  },
  {
   "cell_type": "code",
   "execution_count": 19,
   "metadata": {},
   "outputs": [],
   "source": [
    "a = [name for name in os.listdir(set_div_path) if name.endswith(\".txt\")]"
   ]
  },
  {
   "cell_type": "code",
   "execution_count": 32,
   "metadata": {},
   "outputs": [
    {
     "data": {
      "text/plain": [
       "['New_train.txt',\n",
       " 'New_val.txt',\n",
       " 'Old_train.txt',\n",
       " 'Old_val.txt',\n",
       " 'Wrong_train.txt',\n",
       " 'Wrong_val.txt']"
      ]
     },
     "execution_count": 32,
     "metadata": {},
     "output_type": "execute_result"
    }
   ],
   "source": [
    "a"
   ]
  },
  {
   "cell_type": "code",
   "execution_count": 25,
   "metadata": {},
   "outputs": [],
   "source": [
    "from shutil import copyfile"
   ]
  },
  {
   "cell_type": "code",
   "execution_count": 31,
   "metadata": {},
   "outputs": [],
   "source": [
    "import re\n",
    "for file in a:\n",
    "    if \"train\" in file:\n",
    "        with open(set_div_path + \"/\" + file, 'r') as f:\n",
    "            content = f.read()\n",
    "            get = re.findall(r'(\\S+)[ ]+1\\n', content)\n",
    "            for singlefile in get: \n",
    "                copyfile(set_jpeg_path + \"/\" + singlefile + \".jpg\", train_path + \"/JPEGImages/\" + singlefile + \".jpg\")\n",
    "                copyfile(set_annot_path + \"/\" + singlefile + \".xml\", train_path + \"/Annotations/\" + singlefile + \".xml\")\n",
    "            #train += get\n",
    "    if \"val\" in file:\n",
    "        with open(set_div_path + \"/\" + file, 'r') as f:\n",
    "            content = f.read()\n",
    "            get = re.findall(r'(\\S+)[ ]+1\\n', content)\n",
    "            for singlefile in get: \n",
    "                copyfile(set_jpeg_path + \"/\" + singlefile + \".jpg\", val_path + \"/JPEGImages/\" + singlefile + \".jpg\")\n",
    "                copyfile(set_annot_path + \"/\" + singlefile + \".xml\", val_path + \"/Annotations/\" + singlefile + \".xml\")"
   ]
  },
  {
   "cell_type": "code",
   "execution_count": null,
   "metadata": {},
   "outputs": [],
   "source": []
  }
 ],
 "metadata": {
  "kernelspec": {
   "display_name": "Python 3",
   "language": "python",
   "name": "python3"
  },
  "language_info": {
   "codemirror_mode": {
    "name": "ipython",
    "version": 3
   },
   "file_extension": ".py",
   "mimetype": "text/x-python",
   "name": "python",
   "nbconvert_exporter": "python",
   "pygments_lexer": "ipython3",
   "version": "3.5.2"
  }
 },
 "nbformat": 4,
 "nbformat_minor": 2
}
